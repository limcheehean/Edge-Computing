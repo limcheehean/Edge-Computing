{
  "cells": [
    {
      "cell_type": "markdown",
      "metadata": {
        "id": "EENlZvOtPDZ6"
      },
      "source": [
        "# Quantization tutorial\n",
        "\n",
        "This tutorial shows how to do post-training static quantization, as well as illustrating two more advanced techniques - per-channel quantization and quantization-aware training - to further improve the model’s accuracy. The task is to classify MNIST digits with a simple LeNet architecture.\n",
        "\n",
        "\n",
        "Thsi is a mimialistic tutorial to show you a starting point for quantisation in PyTorch. For theory and more in-depth explanations, Please check out: [Quantizing deep convolutional networks for efficient inference: A whitepaper\n",
        "](https://arxiv.org/abs/1806.08342).\n",
        "\n",
        "The tutorial is heavily adapted from: https://pytorch.org/tutorials/advanced/static_quantization_tutorial.html"
      ]
    },
    {
      "cell_type": "markdown",
      "metadata": {
        "id": "zTvIwDlYvBzC"
      },
      "source": [
        "### Initial Setup\n",
        "\n",
        "Before beginning the assignment, we import the MNIST dataset, and train a simple convolutional neural network (CNN) to classify it."
      ]
    },
    {
      "cell_type": "code",
      "metadata": {
        "colab": {
          "base_uri": "https://localhost:8080/"
        },
        "id": "hbiiMcdNJI--",
        "outputId": "ee578e73-a00a-49a3-89f0-0bac356f95dd",
        "ExecuteTime": {
          "end_time": "2025-02-28T07:37:42.443139Z",
          "start_time": "2025-02-28T07:37:35.803872Z"
        }
      },
      "source": [
        "!pip3 install torch==1.5.0 torchvision==1.6.0\n",
        "import torch\n",
        "import torchvision\n",
        "import torchvision.transforms as transforms\n",
        "import torch.nn as nn\n",
        "import torch.nn.functional as F\n",
        "import torch.optim as optim\n",
        "import os\n",
        "from torch.utils.data import DataLoader\n",
        "import torch.quantization\n",
        "from torch.quantization import QuantStub, DeQuantStub"
      ],
      "outputs": [
        {
          "output_type": "stream",
          "name": "stdout",
          "text": [
            "\u001b[31mERROR: Could not find a version that satisfies the requirement torch==1.5.0 (from versions: 1.13.0, 1.13.1, 2.0.0, 2.0.1, 2.1.0, 2.1.1, 2.1.2, 2.2.0, 2.2.1, 2.2.2, 2.3.0, 2.3.1, 2.4.0, 2.4.1, 2.5.0, 2.5.1, 2.6.0)\u001b[0m\u001b[31m\n",
            "\u001b[0m\u001b[31mERROR: No matching distribution found for torch==1.5.0\u001b[0m\u001b[31m\n",
            "\u001b[0m"
          ]
        }
      ],
      "execution_count": null
    },
    {
      "cell_type": "markdown",
      "metadata": {
        "id": "nCaMDWYArEXO"
      },
      "source": [
        "Load training and test data from the MNIST dataset and apply a normalizing transformation.\n",
        "\n"
      ]
    },
    {
      "cell_type": "code",
      "metadata": {
        "colab": {
          "base_uri": "https://localhost:8080/"
        },
        "id": "_5UuOjjrnogR",
        "outputId": "03887b7c-2e54-4184-89f9-0c7dbdb62cf1",
        "ExecuteTime": {
          "end_time": "2025-02-28T07:38:22.144485Z",
          "start_time": "2025-02-28T07:38:04.543172Z"
        }
      },
      "source": [
        "transform = transforms.Compose(\n",
        "    [transforms.ToTensor(),\n",
        "     transforms.Normalize((0.5,), (0.5,))])\n",
        "\n",
        "trainset = torchvision.datasets.MNIST(root='./data', train=True,\n",
        "                                        download=True, transform=transform)\n",
        "trainloader = torch.utils.data.DataLoader(trainset, batch_size=64,\n",
        "                                          shuffle=True, num_workers=16, pin_memory=True)\n",
        "\n",
        "testset = torchvision.datasets.MNIST(root='./data', train=False,\n",
        "                                       download=True, transform=transform)\n",
        "testloader = torch.utils.data.DataLoader(testset, batch_size=64,\n",
        "                                         shuffle=False, num_workers=16, pin_memory=True)"
      ],
      "outputs": [
        {
          "output_type": "stream",
          "name": "stdout",
          "text": [
            "Downloading http://yann.lecun.com/exdb/mnist/train-images-idx3-ubyte.gz\n",
            "Failed to download (trying next):\n",
            "HTTP Error 404: Not Found\n",
            "\n",
            "Downloading https://ossci-datasets.s3.amazonaws.com/mnist/train-images-idx3-ubyte.gz\n",
            "Downloading https://ossci-datasets.s3.amazonaws.com/mnist/train-images-idx3-ubyte.gz to ./data/MNIST/raw/train-images-idx3-ubyte.gz\n"
          ]
        },
        {
          "output_type": "stream",
          "name": "stderr",
          "text": [
            "100%|██████████| 9.91M/9.91M [00:00<00:00, 16.1MB/s]\n"
          ]
        },
        {
          "output_type": "stream",
          "name": "stdout",
          "text": [
            "Extracting ./data/MNIST/raw/train-images-idx3-ubyte.gz to ./data/MNIST/raw\n",
            "\n",
            "Downloading http://yann.lecun.com/exdb/mnist/train-labels-idx1-ubyte.gz\n",
            "Failed to download (trying next):\n",
            "HTTP Error 404: Not Found\n",
            "\n",
            "Downloading https://ossci-datasets.s3.amazonaws.com/mnist/train-labels-idx1-ubyte.gz\n",
            "Downloading https://ossci-datasets.s3.amazonaws.com/mnist/train-labels-idx1-ubyte.gz to ./data/MNIST/raw/train-labels-idx1-ubyte.gz\n"
          ]
        },
        {
          "output_type": "stream",
          "name": "stderr",
          "text": [
            "100%|██████████| 28.9k/28.9k [00:00<00:00, 497kB/s]\n"
          ]
        },
        {
          "output_type": "stream",
          "name": "stdout",
          "text": [
            "Extracting ./data/MNIST/raw/train-labels-idx1-ubyte.gz to ./data/MNIST/raw\n",
            "\n",
            "Downloading http://yann.lecun.com/exdb/mnist/t10k-images-idx3-ubyte.gz\n",
            "Failed to download (trying next):\n",
            "HTTP Error 404: Not Found\n",
            "\n",
            "Downloading https://ossci-datasets.s3.amazonaws.com/mnist/t10k-images-idx3-ubyte.gz\n",
            "Downloading https://ossci-datasets.s3.amazonaws.com/mnist/t10k-images-idx3-ubyte.gz to ./data/MNIST/raw/t10k-images-idx3-ubyte.gz\n"
          ]
        },
        {
          "output_type": "stream",
          "name": "stderr",
          "text": [
            "100%|██████████| 1.65M/1.65M [00:00<00:00, 3.82MB/s]\n"
          ]
        },
        {
          "output_type": "stream",
          "name": "stdout",
          "text": [
            "Extracting ./data/MNIST/raw/t10k-images-idx3-ubyte.gz to ./data/MNIST/raw\n",
            "\n",
            "Downloading http://yann.lecun.com/exdb/mnist/t10k-labels-idx1-ubyte.gz\n",
            "Failed to download (trying next):\n",
            "HTTP Error 404: Not Found\n",
            "\n",
            "Downloading https://ossci-datasets.s3.amazonaws.com/mnist/t10k-labels-idx1-ubyte.gz\n",
            "Downloading https://ossci-datasets.s3.amazonaws.com/mnist/t10k-labels-idx1-ubyte.gz to ./data/MNIST/raw/t10k-labels-idx1-ubyte.gz\n"
          ]
        },
        {
          "output_type": "stream",
          "name": "stderr",
          "text": [
            "100%|██████████| 4.54k/4.54k [00:00<00:00, 2.15MB/s]\n",
            "/usr/local/lib/python3.11/dist-packages/torch/utils/data/dataloader.py:617: UserWarning: This DataLoader will create 16 worker processes in total. Our suggested max number of worker in current system is 2, which is smaller than what this DataLoader is going to create. Please be aware that excessive worker creation might get DataLoader running slow or even freeze, lower the worker number to avoid potential slowness/freeze if necessary.\n",
            "  warnings.warn(\n"
          ]
        },
        {
          "output_type": "stream",
          "name": "stdout",
          "text": [
            "Extracting ./data/MNIST/raw/t10k-labels-idx1-ubyte.gz to ./data/MNIST/raw\n",
            "\n"
          ]
        }
      ],
      "execution_count": null
    },
    {
      "cell_type": "markdown",
      "metadata": {
        "id": "aG5qXPDxnUnj"
      },
      "source": [
        "Define some helper functions and classes that help us to track the statistics and accuracy with respect to the train/test data."
      ]
    },
    {
      "cell_type": "code",
      "metadata": {
        "id": "WetzHpQybN1k",
        "ExecuteTime": {
          "end_time": "2025-02-28T07:38:48.641522Z",
          "start_time": "2025-02-28T07:38:48.633966Z"
        }
      },
      "source": [
        "class AverageMeter(object):\n",
        "    \"\"\"Computes and stores the average and current value\"\"\"\n",
        "    def __init__(self, name, fmt=':f'):\n",
        "        self.name = name\n",
        "        self.fmt = fmt\n",
        "        self.reset()\n",
        "\n",
        "    def reset(self):\n",
        "        self.val = 0\n",
        "        self.avg = 0\n",
        "        self.sum = 0\n",
        "        self.count = 0\n",
        "\n",
        "    def update(self, val, n=1):\n",
        "        self.val = val\n",
        "        self.sum += val * n\n",
        "        self.count += n\n",
        "        self.avg = self.sum / self.count\n",
        "\n",
        "    def __str__(self):\n",
        "        fmtstr = '{name} {val' + self.fmt + '} ({avg' + self.fmt + '})'\n",
        "        return fmtstr.format(**self.__dict__)\n",
        "\n",
        "def accuracy(output, target):\n",
        "    \"\"\" Computes the top 1 accuracy \"\"\"\n",
        "    with torch.no_grad():\n",
        "        batch_size = target.size(0)\n",
        "\n",
        "        _, pred = output.topk(1, 1, True, True)\n",
        "        pred = pred.t()\n",
        "        correct = pred.eq(target.view(1, -1).expand_as(pred))\n",
        "\n",
        "        res = []\n",
        "        correct_one = correct[:1].view(-1).float().sum(0, keepdim=True)\n",
        "        return correct_one.mul_(100.0 / batch_size).item()\n",
        "\n",
        "def print_size_of_model(model):\n",
        "    \"\"\" Prints the real size of the model \"\"\"\n",
        "    torch.save(model.state_dict(), \"temp.p\")\n",
        "    print('Size (MB):', os.path.getsize(\"temp.p\")/1e6)\n",
        "    os.remove('temp.p')\n",
        "\n",
        "def load_model(quantized_model, model):\n",
        "    \"\"\" Loads in the weights into an object meant for quantization \"\"\"\n",
        "    state_dict = model.state_dict()\n",
        "    model = model.to('cpu')\n",
        "    quantized_model.load_state_dict(state_dict)\n",
        "\n",
        "def fuse_modules(model):\n",
        "    \"\"\" Fuse together convolutions/linear layers and ReLU \"\"\"\n",
        "    torch.quantization.fuse_modules(model, [['conv1', 'relu1'],\n",
        "                                            ['conv2', 'relu2'],\n",
        "                                            ['fc1', 'relu3'],\n",
        "                                            ['fc2', 'relu4']], inplace=True)"
      ],
      "outputs": [],
      "execution_count": null
    },
    {
      "cell_type": "markdown",
      "metadata": {
        "id": "l62CkyIwtSOv"
      },
      "source": [
        "Define a simple CNN that classifies MNIST images.\n",
        "\n",
        "\n"
      ]
    },
    {
      "cell_type": "code",
      "metadata": {
        "id": "9fL3F-7Rntog",
        "ExecuteTime": {
          "end_time": "2025-02-28T07:38:53.266587Z",
          "start_time": "2025-02-28T07:38:53.260447Z"
        }
      },
      "source": [
        "class Net(nn.Module):\n",
        "    def __init__(self, q = False):\n",
        "        # By turning on Q we can turn on/off the quantization\n",
        "        super(Net, self).__init__()\n",
        "        self.conv1 = nn.Conv2d(1, 6, 5, bias=False)\n",
        "        self.relu1 = nn.ReLU()\n",
        "        self.pool1 = nn.MaxPool2d(2, 2)\n",
        "        self.conv2 = nn.Conv2d(6, 16, 5, bias=False)\n",
        "        self.relu2 = nn.ReLU()\n",
        "        self.pool2 = nn.MaxPool2d(2, 2)\n",
        "        self.fc1 = nn.Linear(256, 120, bias=False)\n",
        "        self.relu3 = nn.ReLU()\n",
        "        self.fc2 = nn.Linear(120, 84, bias=False)\n",
        "        self.relu4 = nn.ReLU()\n",
        "        self.fc3 = nn.Linear(84, 10, bias=False)\n",
        "        self.q = q\n",
        "        if q:\n",
        "          self.quant = QuantStub()\n",
        "          self.dequant = DeQuantStub()\n",
        "\n",
        "    def forward(self, x: torch.Tensor) -> torch.Tensor:\n",
        "        if self.q:\n",
        "          x = self.quant(x)\n",
        "        x = self.conv1(x)\n",
        "        x = self.relu1(x)\n",
        "        x = self.pool1(x)\n",
        "        x = self.conv2(x)\n",
        "        x = self.relu2(x)\n",
        "        x = self.pool2(x)\n",
        "        # Be careful to use reshape here instead of view\n",
        "        x = x.reshape(x.shape[0], -1)\n",
        "        x = self.fc1(x)\n",
        "        x = self.relu3(x)\n",
        "        x = self.fc2(x)\n",
        "        x = self.relu4(x)\n",
        "        x = self.fc3(x)\n",
        "        if self.q:\n",
        "          x = self.dequant(x)\n",
        "        return x"
      ],
      "outputs": [],
      "execution_count": null
    },
    {
      "cell_type": "code",
      "metadata": {
        "colab": {
          "base_uri": "https://localhost:8080/"
        },
        "id": "W9_LdxSTb3BJ",
        "outputId": "496f78cc-5f65-4bac-fe82-77d9239bb92b",
        "ExecuteTime": {
          "end_time": "2025-02-28T07:38:55.482602Z",
          "start_time": "2025-02-28T07:38:54.905308Z"
        }
      },
      "source": [
        "net = Net(q=False).cuda()\n",
        "print_size_of_model(net)"
      ],
      "outputs": [
        {
          "output_type": "stream",
          "name": "stdout",
          "text": [
            "Size (MB): 0.179057\n"
          ]
        }
      ],
      "execution_count": null
    },
    {
      "cell_type": "markdown",
      "metadata": {
        "id": "Nijieuxptag6"
      },
      "source": [
        "Train this CNN on the training dataset (this may take a few moments)."
      ]
    },
    {
      "cell_type": "code",
      "metadata": {
        "id": "CzK6ohj5oNCT",
        "ExecuteTime": {
          "end_time": "2025-02-28T07:38:59.660354Z",
          "start_time": "2025-02-28T07:38:59.653165Z"
        }
      },
      "source": [
        "def train(model: nn.Module, dataloader: DataLoader, cuda=False, q=False):\n",
        "    criterion = nn.CrossEntropyLoss()\n",
        "    optimizer = optim.SGD(model.parameters(), lr=0.001, momentum=0.9)\n",
        "    model.train()\n",
        "    for epoch in range(10):  # loop over the dataset multiple times\n",
        "\n",
        "        running_loss = AverageMeter('loss')\n",
        "        acc = AverageMeter('train_acc')\n",
        "        for i, data in enumerate(dataloader, 0):\n",
        "            # get the inputs; data is a list of [inputs, labels]\n",
        "            inputs, labels = data\n",
        "            if cuda:\n",
        "              inputs = inputs.cuda()\n",
        "              labels = labels.cuda()\n",
        "\n",
        "            # zero the parameter gradients\n",
        "            optimizer.zero_grad()\n",
        "\n",
        "            if epoch>=3 and q:\n",
        "              model.apply(torch.quantization.disable_observer)\n",
        "\n",
        "            # forward + backward + optimize\n",
        "            outputs = model(inputs)\n",
        "            loss = criterion(outputs, labels)\n",
        "            loss.backward()\n",
        "            optimizer.step()\n",
        "\n",
        "            # print statistics\n",
        "            running_loss.update(loss.item(), outputs.shape[0])\n",
        "            acc.update(accuracy(outputs, labels), outputs.shape[0])\n",
        "            if i % 100 == 0:    # print every 100 mini-batches\n",
        "                print('[%d, %5d] ' %\n",
        "                    (epoch + 1, i + 1), running_loss, acc)\n",
        "    print('Finished Training')\n",
        "\n",
        "\n",
        "def test(model: nn.Module, dataloader: DataLoader, cuda=False) -> float:\n",
        "    correct = 0\n",
        "    total = 0\n",
        "    model.eval()\n",
        "    with torch.no_grad():\n",
        "        for data in dataloader:\n",
        "            inputs, labels = data\n",
        "\n",
        "            if cuda:\n",
        "              inputs = inputs.cuda()\n",
        "              labels = labels.cuda()\n",
        "\n",
        "            outputs = model(inputs)\n",
        "            _, predicted = torch.max(outputs.data, 1)\n",
        "            total += labels.size(0)\n",
        "            correct += (predicted == labels).sum().item()\n",
        "\n",
        "    return 100 * correct / total"
      ],
      "outputs": [],
      "execution_count": null
    },
    {
      "cell_type": "code",
      "metadata": {
        "colab": {
          "base_uri": "https://localhost:8080/"
        },
        "collapsed": true,
        "id": "HixhBHaqtmZU",
        "outputId": "34bfbe6c-d128-4b33-bf04-d88cc4e10386",
        "ExecuteTime": {
          "end_time": "2025-02-28T07:39:01.371686Z",
          "start_time": "2025-02-28T07:39:01.358851Z"
        }
      },
      "source": [
        "train(net, trainloader, cuda=True)"
      ],
      "outputs": [
        {
          "output_type": "stream",
          "name": "stdout",
          "text": [
            "[1,     1]  loss 2.302968 (2.302968) train_acc 10.937500 (10.937500)\n",
            "[1,   101]  loss 2.305319 (2.301915) train_acc 6.250000 (10.612624)\n",
            "[1,   201]  loss 2.295048 (2.300284) train_acc 15.625000 (10.541045)\n",
            "[1,   301]  loss 2.293133 (2.298652) train_acc 14.062500 (10.257475)\n",
            "[1,   401]  loss 2.290945 (2.296354) train_acc 7.812500 (10.442643)\n",
            "[1,   501]  loss 2.274202 (2.293488) train_acc 17.187500 (10.647455)\n",
            "[1,   601]  loss 2.250962 (2.289366) train_acc 29.687500 (12.793781)\n",
            "[1,   701]  loss 2.220980 (2.282652) train_acc 28.125000 (15.134629)\n",
            "[1,   801]  loss 2.124724 (2.269522) train_acc 32.812500 (17.554229)\n",
            "[1,   901]  loss 1.783046 (2.236157) train_acc 43.750000 (20.293424)\n",
            "[2,     1]  loss 1.589467 (1.589467) train_acc 48.437500 (48.437500)\n",
            "[2,   101]  loss 0.896001 (1.183366) train_acc 76.562500 (66.413985)\n",
            "[2,   201]  loss 0.563278 (0.973560) train_acc 89.062500 (71.983831)\n",
            "[2,   301]  loss 0.364441 (0.836737) train_acc 90.625000 (75.586586)\n",
            "[2,   401]  loss 0.388241 (0.743296) train_acc 90.625000 (78.136690)\n",
            "[2,   501]  loss 0.362421 (0.672409) train_acc 90.625000 (80.164671)\n",
            "[2,   601]  loss 0.224385 (0.617486) train_acc 92.187500 (81.780366)\n",
            "[2,   701]  loss 0.279137 (0.573888) train_acc 87.500000 (83.013106)\n",
            "[2,   801]  loss 0.171403 (0.536016) train_acc 96.875000 (84.181882)\n",
            "[2,   901]  loss 0.260839 (0.504536) train_acc 92.187500 (85.112028)\n",
            "[3,     1]  loss 0.177352 (0.177352) train_acc 92.187500 (92.187500)\n",
            "[3,   101]  loss 0.284119 (0.244446) train_acc 90.625000 (92.373144)\n",
            "[3,   201]  loss 0.154140 (0.231146) train_acc 95.312500 (92.957090)\n",
            "[3,   301]  loss 0.147968 (0.223813) train_acc 93.750000 (93.210133)\n",
            "[3,   401]  loss 0.203354 (0.213667) train_acc 95.312500 (93.504520)\n",
            "[3,   501]  loss 0.182474 (0.209588) train_acc 90.625000 (93.603418)\n",
            "[3,   601]  loss 0.134790 (0.204226) train_acc 96.875000 (93.773399)\n",
            "[3,   701]  loss 0.130231 (0.201264) train_acc 96.875000 (93.863677)\n",
            "[3,   801]  loss 0.136734 (0.196207) train_acc 96.875000 (94.052356)\n",
            "[3,   901]  loss 0.187467 (0.192588) train_acc 93.750000 (94.206090)\n",
            "[4,     1]  loss 0.148993 (0.148993) train_acc 95.312500 (95.312500)\n",
            "[4,   101]  loss 0.228827 (0.151225) train_acc 92.187500 (95.529084)\n",
            "[4,   201]  loss 0.114229 (0.144946) train_acc 95.312500 (95.615672)\n",
            "[4,   301]  loss 0.119634 (0.143838) train_acc 98.437500 (95.603198)\n",
            "[4,   401]  loss 0.193107 (0.145125) train_acc 95.312500 (95.686565)\n",
            "[4,   501]  loss 0.163396 (0.141250) train_acc 95.312500 (95.774077)\n",
            "[4,   601]  loss 0.140630 (0.141632) train_acc 95.312500 (95.757072)\n",
            "[4,   701]  loss 0.067619 (0.138157) train_acc 96.875000 (95.836305)\n",
            "[4,   801]  loss 0.087675 (0.135827) train_acc 98.437500 (95.889903)\n",
            "[4,   901]  loss 0.187488 (0.134312) train_acc 93.750000 (95.942009)\n",
            "[5,     1]  loss 0.108940 (0.108940) train_acc 95.312500 (95.312500)\n",
            "[5,   101]  loss 0.093659 (0.114112) train_acc 98.437500 (96.642946)\n",
            "[5,   201]  loss 0.145512 (0.110864) train_acc 96.875000 (96.781716)\n",
            "[5,   301]  loss 0.036345 (0.108369) train_acc 98.437500 (96.807517)\n",
            "[5,   401]  loss 0.065963 (0.108113) train_acc 96.875000 (96.808759)\n",
            "[5,   501]  loss 0.051236 (0.108233) train_acc 98.437500 (96.768962)\n",
            "[5,   601]  loss 0.129429 (0.109293) train_acc 93.750000 (96.695611)\n",
            "[5,   701]  loss 0.088946 (0.108332) train_acc 96.875000 (96.718973)\n",
            "[5,   801]  loss 0.168593 (0.107481) train_acc 96.875000 (96.767712)\n",
            "[5,   901]  loss 0.069065 (0.105559) train_acc 95.312500 (96.796962)\n",
            "[6,     1]  loss 0.067282 (0.067282) train_acc 98.437500 (98.437500)\n",
            "[6,   101]  loss 0.112153 (0.097384) train_acc 96.875000 (97.246287)\n",
            "[6,   201]  loss 0.040557 (0.093763) train_acc 98.437500 (97.147077)\n",
            "[6,   301]  loss 0.135155 (0.091971) train_acc 96.875000 (97.238372)\n",
            "[6,   401]  loss 0.018335 (0.090673) train_acc 100.000000 (97.249065)\n",
            "[6,   501]  loss 0.354826 (0.092473) train_acc 92.187500 (97.199351)\n",
            "[6,   601]  loss 0.044738 (0.092209) train_acc 98.437500 (97.197379)\n",
            "[6,   701]  loss 0.096501 (0.091547) train_acc 96.875000 (97.193741)\n",
            "[6,   801]  loss 0.045191 (0.091416) train_acc 98.437500 (97.200765)\n",
            "[6,   901]  loss 0.139336 (0.090707) train_acc 96.875000 (97.225305)\n",
            "[7,     1]  loss 0.115988 (0.115988) train_acc 96.875000 (96.875000)\n",
            "[7,   101]  loss 0.098593 (0.074701) train_acc 95.312500 (97.602104)\n",
            "[7,   201]  loss 0.127600 (0.076514) train_acc 96.875000 (97.605721)\n",
            "[7,   301]  loss 0.065016 (0.076335) train_acc 98.437500 (97.669228)\n",
            "[7,   401]  loss 0.107845 (0.079162) train_acc 95.312500 (97.642612)\n",
            "[7,   501]  loss 0.066593 (0.080711) train_acc 98.437500 (97.554890)\n",
            "[7,   601]  loss 0.077146 (0.080138) train_acc 96.875000 (97.553557)\n",
            "[7,   701]  loss 0.128316 (0.080207) train_acc 95.312500 (97.541459)\n",
            "[7,   801]  loss 0.127779 (0.079945) train_acc 95.312500 (97.530431)\n",
            "[7,   901]  loss 0.008587 (0.079945) train_acc 100.000000 (97.518382)\n",
            "[8,     1]  loss 0.146177 (0.146177) train_acc 96.875000 (96.875000)\n",
            "[8,   101]  loss 0.025474 (0.070408) train_acc 100.000000 (97.988861)\n",
            "[8,   201]  loss 0.027232 (0.066126) train_acc 100.000000 (97.986629)\n",
            "[8,   301]  loss 0.156648 (0.065108) train_acc 93.750000 (97.991071)\n",
            "[8,   401]  loss 0.160867 (0.066723) train_acc 95.312500 (97.907575)\n",
            "[8,   501]  loss 0.073245 (0.067451) train_acc 96.875000 (97.929142)\n",
            "[8,   601]  loss 0.125441 (0.070091) train_acc 96.875000 (97.857737)\n",
            "[8,   701]  loss 0.019409 (0.071096) train_acc 98.437500 (97.815621)\n",
            "[8,   801]  loss 0.050740 (0.071536) train_acc 98.437500 (97.826935)\n",
            "[8,   901]  loss 0.094728 (0.071899) train_acc 98.437500 (97.825333)\n",
            "[9,     1]  loss 0.135984 (0.135984) train_acc 93.750000 (93.750000)\n",
            "[9,   101]  loss 0.079476 (0.075561) train_acc 98.437500 (97.694926)\n",
            "[9,   201]  loss 0.028070 (0.073862) train_acc 98.437500 (97.675684)\n",
            "[9,   301]  loss 0.038277 (0.070601) train_acc 98.437500 (97.767857)\n",
            "[9,   401]  loss 0.016259 (0.068794) train_acc 100.000000 (97.864713)\n",
            "[9,   501]  loss 0.025112 (0.067307) train_acc 100.000000 (97.947854)\n",
            "[9,   601]  loss 0.117574 (0.066609) train_acc 98.437500 (97.956531)\n",
            "[9,   701]  loss 0.004474 (0.066432) train_acc 100.000000 (97.958274)\n",
            "[9,   801]  loss 0.048276 (0.066176) train_acc 98.437500 (97.973237)\n",
            "[9,   901]  loss 0.018555 (0.065586) train_acc 100.000000 (98.002220)\n",
            "[10,     1]  loss 0.030428 (0.030428) train_acc 100.000000 (100.000000)\n",
            "[10,   101]  loss 0.013638 (0.055391) train_acc 100.000000 (98.329208)\n",
            "[10,   201]  loss 0.015486 (0.060047) train_acc 100.000000 (98.227612)\n",
            "[10,   301]  loss 0.039359 (0.058705) train_acc 98.437500 (98.266196)\n",
            "[10,   401]  loss 0.105518 (0.060443) train_acc 96.875000 (98.203709)\n",
            "[10,   501]  loss 0.009181 (0.060370) train_acc 100.000000 (98.169286)\n",
            "[10,   601]  loss 0.025167 (0.060403) train_acc 100.000000 (98.156718)\n",
            "[10,   701]  loss 0.096805 (0.059579) train_acc 98.437500 (98.181170)\n",
            "[10,   801]  loss 0.046563 (0.059738) train_acc 98.437500 (98.176108)\n",
            "[10,   901]  loss 0.062853 (0.059433) train_acc 98.437500 (98.203385)\n",
            "Finished Training\n"
          ]
        }
      ],
      "execution_count": null
    },
    {
      "cell_type": "markdown",
      "metadata": {
        "id": "EJggxnCVuRxU"
      },
      "source": [
        "Now that the CNN has been trained, let's test it on our test dataset."
      ]
    },
    {
      "cell_type": "code",
      "metadata": {
        "colab": {
          "base_uri": "https://localhost:8080/"
        },
        "id": "y27_n-djuEdz",
        "outputId": "c939789a-5548-4e13-a1fd-fff228e51e3c",
        "ExecuteTime": {
          "end_time": "2025-02-28T07:39:03.639628Z",
          "start_time": "2025-02-28T07:39:03.626178Z"
        }
      },
      "source": [
        "score = test(net, testloader, cuda=True)\n",
        "print('Accuracy of the network on the test images: {}% - FP32'.format(score))"
      ],
      "outputs": [
        {
          "output_type": "stream",
          "name": "stdout",
          "text": [
            "Accuracy of the network on the test images: 98.18% - FP32\n"
          ]
        }
      ],
      "execution_count": null
    },
    {
      "cell_type": "markdown",
      "metadata": {
        "id": "_Lp-ElDsrKua"
      },
      "source": [
        "### Post-training quantization\n",
        "\n",
        "Define a new quantized network architeture, where we also define the quantization and dequantization stubs that will be important at the start and at the end.\n",
        "\n",
        "Next, we’ll “fuse modules”; this can both make the model faster by saving on memory access while also improving numerical accuracy. While this can be used with any model, this is especially common with quantized models."
      ]
    },
    {
      "cell_type": "code",
      "metadata": {
        "id": "X-nQWDXrhItv",
        "ExecuteTime": {
          "end_time": "2025-02-28T07:39:08.876547Z",
          "start_time": "2025-02-28T07:39:08.860993Z"
        }
      },
      "source": [
        "qnet = Net(q=True)\n",
        "load_model(qnet, net)\n",
        "fuse_modules(qnet)"
      ],
      "outputs": [],
      "execution_count": null
    },
    {
      "cell_type": "markdown",
      "metadata": {
        "id": "qiaQkj6wJuC6"
      },
      "source": [
        "In general, we have the following process (Post Training Quantization):\n",
        "\n",
        "1. Prepare: we insert some observers to the model to observe the statistics of a Tensor, for example, min/max values of the Tensor\n",
        "2. Calibration: We run the model with some representative sample data, this will allow the observers to record the Tensor statistics\n",
        "3. Convert: Based on the calibrated model, we can figure out the quantization parameters for the mapping function and convert the floating point operators to quantized operators"
      ]
    },
    {
      "cell_type": "code",
      "metadata": {
        "colab": {
          "base_uri": "https://localhost:8080/"
        },
        "id": "x-ZaMV4bUb6-",
        "outputId": "c3f3a3d9-4c6b-4d21-9eac-f6db533c3a5c",
        "ExecuteTime": {
          "end_time": "2025-02-28T07:39:24.546663Z",
          "start_time": "2025-02-28T07:39:10.922902Z"
        }
      },
      "source": [
        "qnet.qconfig = torch.quantization.default_qconfig\n",
        "print(qnet.qconfig)\n",
        "torch.quantization.prepare(qnet, inplace=True)\n",
        "print('Post Training Quantization Prepare: Inserting Observers')\n",
        "print('\\n Conv1: After observer insertion \\n\\n', qnet.conv1)\n",
        "\n",
        "test(qnet, trainloader, cuda=False)\n",
        "print('Post Training Quantization: Calibration done')\n",
        "torch.quantization.convert(qnet, inplace=True)\n",
        "print('Post Training Quantization: Convert done')\n",
        "print('\\n Conv1: After fusion and quantization \\n\\n', qnet.conv1)\n",
        "print(\"Size of model after quantization\")\n",
        "print_size_of_model(qnet)"
      ],
      "outputs": [
        {
          "output_type": "stream",
          "name": "stdout",
          "text": [
            "QConfig(activation=functools.partial(<class 'torch.ao.quantization.observer.MinMaxObserver'>, quant_min=0, quant_max=127){}, weight=functools.partial(<class 'torch.ao.quantization.observer.MinMaxObserver'>, dtype=torch.qint8, qscheme=torch.per_tensor_symmetric){})\n",
            "Post Training Quantization Prepare: Inserting Observers\n",
            "\n",
            " Conv1: After observer insertion \n",
            "\n",
            " ConvReLU2d(\n",
            "  (0): Conv2d(1, 6, kernel_size=(5, 5), stride=(1, 1), bias=False)\n",
            "  (1): ReLU()\n",
            "  (activation_post_process): MinMaxObserver(min_val=inf, max_val=-inf)\n",
            ")\n",
            "Post Training Quantization: Calibration done\n",
            "Post Training Quantization: Convert done\n",
            "\n",
            " Conv1: After fusion and quantization \n",
            "\n",
            " QuantizedConvReLU2d(1, 6, kernel_size=(5, 5), stride=(1, 1), scale=0.049503736197948456, zero_point=0, bias=False)\n",
            "Size of model after quantization\n",
            "Size (MB): 0.050084\n"
          ]
        }
      ],
      "execution_count": null
    },
    {
      "cell_type": "code",
      "metadata": {
        "colab": {
          "base_uri": "https://localhost:8080/"
        },
        "id": "wbDvGBtMavCO",
        "outputId": "58874e42-e02e-43e7-9f8d-91948541b9fe",
        "jupyter": {
          "is_executing": true
        },
        "ExecuteTime": {
          "start_time": "2025-02-28T07:39:25.810320Z"
        }
      },
      "source": [
        "score = test(qnet, testloader, cuda=False)\n",
        "print('Accuracy of the fused and quantized network on the test images: {}% - INT8'.format(score))"
      ],
      "outputs": [
        {
          "output_type": "stream",
          "name": "stdout",
          "text": [
            "Accuracy of the fused and quantized network on the test images: 98.1% - INT8\n"
          ]
        }
      ],
      "execution_count": null
    },
    {
      "cell_type": "markdown",
      "metadata": {
        "id": "lcv6Gi45lZ4L"
      },
      "source": [
        "We can also define a cusom quantization configuration, where we replace the default observers and instead of quantising with respect to max/min we can take an average of the observed max/min, hopefully for a better generalization performance."
      ]
    },
    {
      "cell_type": "code",
      "execution_count": null,
      "metadata": {
        "colab": {
          "base_uri": "https://localhost:8080/"
        },
        "id": "qNj6TNFu1ljn",
        "outputId": "38d8fe2b-e2f5-4a70-deb9-315166894202"
      },
      "outputs": [
        {
          "output_type": "stream",
          "name": "stdout",
          "text": [
            "QConfig(activation=functools.partial(<class 'torch.ao.quantization.observer.MovingAverageMinMaxObserver'>, reduce_range=True){}, weight=functools.partial(<class 'torch.ao.quantization.observer.MovingAverageMinMaxObserver'>, dtype=torch.qint8, qscheme=torch.per_tensor_symmetric){})\n",
            "Post Training Quantization Prepare: Inserting Observers\n",
            "\n",
            " Conv1: After observer insertion \n",
            "\n",
            " ConvReLU2d(\n",
            "  (0): Conv2d(1, 6, kernel_size=(5, 5), stride=(1, 1), bias=False)\n",
            "  (1): ReLU()\n",
            "  (activation_post_process): MovingAverageMinMaxObserver(min_val=inf, max_val=-inf)\n",
            ")\n"
          ]
        },
        {
          "output_type": "stream",
          "name": "stderr",
          "text": [
            "/usr/local/lib/python3.11/dist-packages/torch/ao/quantization/observer.py:229: UserWarning: Please use quant_min and quant_max to specify the range for observers.                     reduce_range will be deprecated in a future release of PyTorch.\n",
            "  warnings.warn(\n"
          ]
        },
        {
          "output_type": "stream",
          "name": "stdout",
          "text": [
            "Post Training Quantization: Calibration done\n",
            "Post Training Quantization: Convert done\n",
            "\n",
            " Conv1: After fusion and quantization \n",
            "\n",
            " QuantizedConvReLU2d(1, 6, kernel_size=(5, 5), stride=(1, 1), scale=0.0462433323264122, zero_point=0, bias=False)\n",
            "Size of model after quantization\n",
            "Size (MB): 0.050084\n",
            "Accuracy of the fused and quantized network on the test images: 98.18% - INT8\n"
          ]
        }
      ],
      "source": [
        "from torch.quantization.observer import MovingAverageMinMaxObserver\n",
        "\n",
        "qnet = Net(q=True)\n",
        "load_model(qnet, net)\n",
        "fuse_modules(qnet)\n",
        "\n",
        "qnet.qconfig = torch.quantization.QConfig(\n",
        "                                      activation=MovingAverageMinMaxObserver.with_args(reduce_range=True),\n",
        "                                      weight=MovingAverageMinMaxObserver.with_args(dtype=torch.qint8, qscheme=torch.per_tensor_symmetric))\n",
        "print(qnet.qconfig)\n",
        "torch.quantization.prepare(qnet, inplace=True)\n",
        "print('Post Training Quantization Prepare: Inserting Observers')\n",
        "print('\\n Conv1: After observer insertion \\n\\n', qnet.conv1)\n",
        "\n",
        "test(qnet, trainloader, cuda=False)\n",
        "print('Post Training Quantization: Calibration done')\n",
        "torch.quantization.convert(qnet, inplace=True)\n",
        "print('Post Training Quantization: Convert done')\n",
        "print('\\n Conv1: After fusion and quantization \\n\\n', qnet.conv1)\n",
        "print(\"Size of model after quantization\")\n",
        "print_size_of_model(qnet)\n",
        "score = test(qnet, testloader, cuda=False)\n",
        "print('Accuracy of the fused and quantized network on the test images: {}% - INT8'.format(score))"
      ]
    },
    {
      "cell_type": "markdown",
      "metadata": {
        "id": "8LXNCT7fgcMx"
      },
      "source": [
        "In addition, we can significantly improve on the accuracy simply by using a different quantization configuration. We repeat the same exercise with the recommended configuration for quantizing for arm64 architecture (qnnpack). This configuration does the following:\n",
        "Quantizes weights on a per-channel basis. It\n",
        "uses a histogram observer that collects a histogram of activations and then picks quantization parameters in an optimal manner."
      ]
    },
    {
      "cell_type": "code",
      "execution_count": null,
      "metadata": {
        "id": "-nZq5yF_gWBs"
      },
      "outputs": [],
      "source": [
        "qnet = Net(q=True)\n",
        "load_model(qnet, net)\n",
        "fuse_modules(qnet)"
      ]
    },
    {
      "cell_type": "code",
      "execution_count": null,
      "metadata": {
        "colab": {
          "base_uri": "https://localhost:8080/"
        },
        "id": "HXv5pAwVlGFh",
        "outputId": "3cf75b05-3cfc-41e7-9f23-cce459cc1628"
      },
      "outputs": [
        {
          "output_type": "stream",
          "name": "stdout",
          "text": [
            "QConfig(activation=functools.partial(<class 'torch.ao.quantization.observer.HistogramObserver'>, reduce_range=False){}, weight=functools.partial(<class 'torch.ao.quantization.observer.MinMaxObserver'>, dtype=torch.qint8, qscheme=torch.per_tensor_symmetric){})\n",
            "Size of model after quantization\n",
            "Size (MB): 0.050084\n"
          ]
        }
      ],
      "source": [
        "qnet.qconfig = torch.quantization.get_default_qconfig('qnnpack')\n",
        "print(qnet.qconfig)\n",
        "\n",
        "torch.quantization.prepare(qnet, inplace=True)\n",
        "test(qnet, trainloader, cuda=False)\n",
        "torch.quantization.convert(qnet, inplace=True)\n",
        "print(\"Size of model after quantization\")\n",
        "print_size_of_model(qnet)"
      ]
    },
    {
      "cell_type": "code",
      "execution_count": null,
      "metadata": {
        "colab": {
          "base_uri": "https://localhost:8080/"
        },
        "id": "X5Vjyayimv8n",
        "outputId": "4524ac99-d649-44e6-b321-438dbf367867"
      },
      "outputs": [
        {
          "output_type": "stream",
          "name": "stdout",
          "text": [
            "Accuracy of the fused and quantized network on the test images: 98.16% - INT8\n"
          ]
        }
      ],
      "source": [
        "score = test(qnet, testloader, cuda=False)\n",
        "print('Accuracy of the fused and quantized network on the test images: {}% - INT8'.format(score))"
      ]
    },
    {
      "cell_type": "markdown",
      "metadata": {
        "id": "5A_G3tsasU6U"
      },
      "source": [
        "### Quantization aware training\n",
        "\n",
        "Quantization-aware training (QAT) is the quantization method that typically results in the highest accuracy. With QAT, all weights and activations are “fake quantized” during both the forward and backward passes of training: that is, float values are rounded to mimic int8 values, but all computations are still done with floating point numbers."
      ]
    },
    {
      "cell_type": "code",
      "execution_count": null,
      "metadata": {
        "colab": {
          "base_uri": "https://localhost:8080/"
        },
        "collapsed": true,
        "id": "o-mGba7QsXzf",
        "outputId": "9c61c8ed-1a14-48b6-fe2d-df0be3419297"
      },
      "outputs": [
        {
          "output_type": "stream",
          "name": "stdout",
          "text": [
            "\n",
            " Conv1: After fusion and quantization \n",
            "\n",
            " ConvReLU2d(\n",
            "  1, 6, kernel_size=(5, 5), stride=(1, 1), bias=False\n",
            "  (weight_fake_quant): FusedMovingAvgObsFakeQuantize(\n",
            "    fake_quant_enabled=tensor([1]), observer_enabled=tensor([1]), scale=tensor([1.]), zero_point=tensor([0], dtype=torch.int32), dtype=torch.qint8, quant_min=-128, quant_max=127, qscheme=torch.per_tensor_symmetric, reduce_range=False\n",
            "    (activation_post_process): MovingAverageMinMaxObserver(min_val=inf, max_val=-inf)\n",
            "  )\n",
            "  (activation_post_process): FusedMovingAvgObsFakeQuantize(\n",
            "    fake_quant_enabled=tensor([1]), observer_enabled=tensor([1]), scale=tensor([1.]), zero_point=tensor([0], dtype=torch.int32), dtype=torch.quint8, quant_min=0, quant_max=255, qscheme=torch.per_tensor_affine, reduce_range=False\n",
            "    (activation_post_process): MovingAverageMinMaxObserver(min_val=inf, max_val=-inf)\n",
            "  )\n",
            ")\n",
            "[1,     1]  loss 2.303781 (2.303781) train_acc 9.375000 (9.375000)\n",
            "[1,   101]  loss 2.288307 (2.299360) train_acc 21.875000 (10.628094)\n",
            "[1,   201]  loss 2.288391 (2.295944) train_acc 15.625000 (12.119092)\n",
            "[1,   301]  loss 2.283945 (2.292746) train_acc 17.187500 (13.486296)\n",
            "[1,   401]  loss 2.274433 (2.288189) train_acc 28.125000 (16.345854)\n",
            "[1,   501]  loss 2.246304 (2.281422) train_acc 46.875000 (22.199351)\n",
            "[1,   601]  loss 2.211495 (2.271688) train_acc 59.375000 (27.976809)\n",
            "[1,   701]  loss 2.123258 (2.256501) train_acc 76.562500 (33.782097)\n",
            "[1,   801]  loss 1.977866 (2.232429) train_acc 87.500000 (38.613842)\n",
            "[1,   901]  loss 1.750031 (2.194306) train_acc 82.812500 (43.139567)\n",
            "[2,     1]  loss 1.614661 (1.614661) train_acc 87.500000 (87.500000)\n",
            "[2,   101]  loss 1.139578 (1.438495) train_acc 84.375000 (82.642327)\n",
            "[2,   201]  loss 0.868679 (1.218685) train_acc 81.250000 (83.418843)\n",
            "[2,   301]  loss 0.546885 (1.034091) train_acc 84.375000 (84.011628)\n",
            "[2,   401]  loss 0.361163 (0.897034) train_acc 90.625000 (84.904925)\n",
            "[2,   501]  loss 0.426357 (0.798030) train_acc 87.500000 (85.544536)\n",
            "[2,   601]  loss 0.532596 (0.721993) train_acc 85.937500 (86.306676)\n",
            "[2,   701]  loss 0.280766 (0.665582) train_acc 90.625000 (86.844686)\n",
            "[2,   801]  loss 0.300463 (0.618284) train_acc 90.625000 (87.410268)\n",
            "[2,   901]  loss 0.110232 (0.580332) train_acc 95.312500 (87.867647)\n",
            "[3,     1]  loss 0.295697 (0.295697) train_acc 89.062500 (89.062500)\n",
            "[3,   101]  loss 0.191049 (0.239851) train_acc 90.625000 (92.636139)\n",
            "[3,   201]  loss 0.234217 (0.234164) train_acc 96.875000 (92.957090)\n",
            "[3,   301]  loss 0.152743 (0.233491) train_acc 98.437500 (92.966154)\n",
            "[3,   401]  loss 0.232720 (0.229569) train_acc 93.750000 (93.091490)\n",
            "[3,   501]  loss 0.255657 (0.226534) train_acc 90.625000 (93.219810)\n",
            "[3,   601]  loss 0.206944 (0.220004) train_acc 90.625000 (93.448419)\n",
            "[3,   701]  loss 0.147187 (0.215479) train_acc 95.312500 (93.515959)\n",
            "[3,   801]  loss 0.350152 (0.212849) train_acc 92.187500 (93.593945)\n",
            "[3,   901]  loss 0.320647 (0.208472) train_acc 92.187500 (93.767342)\n",
            "[4,     1]  loss 0.117025 (0.117025) train_acc 96.875000 (96.875000)\n",
            "[4,   101]  loss 0.148651 (0.159649) train_acc 96.875000 (94.972153)\n",
            "[4,   201]  loss 0.350655 (0.162926) train_acc 92.187500 (95.071517)\n",
            "[4,   301]  loss 0.175201 (0.160779) train_acc 95.312500 (95.115241)\n",
            "[4,   401]  loss 0.085254 (0.161036) train_acc 98.437500 (95.102089)\n",
            "[4,   501]  loss 0.179379 (0.159442) train_acc 95.312500 (95.156562)\n",
            "[4,   601]  loss 0.153958 (0.155520) train_acc 95.312500 (95.231905)\n",
            "[4,   701]  loss 0.112728 (0.152576) train_acc 95.312500 (95.312500)\n",
            "[4,   801]  loss 0.104551 (0.150140) train_acc 98.437500 (95.378823)\n",
            "[4,   901]  loss 0.115160 (0.148282) train_acc 95.312500 (95.406146)\n",
            "[5,     1]  loss 0.107047 (0.107047) train_acc 96.875000 (96.875000)\n",
            "[5,   101]  loss 0.080776 (0.127648) train_acc 98.437500 (96.209777)\n",
            "[5,   201]  loss 0.059698 (0.123935) train_acc 100.000000 (96.222015)\n",
            "[5,   301]  loss 0.170412 (0.122782) train_acc 95.312500 (96.262458)\n",
            "[5,   401]  loss 0.023005 (0.123070) train_acc 100.000000 (96.255455)\n",
            "[5,   501]  loss 0.104675 (0.120668) train_acc 98.437500 (96.329217)\n",
            "[5,   601]  loss 0.063993 (0.119846) train_acc 98.437500 (96.334235)\n",
            "[5,   701]  loss 0.052019 (0.122098) train_acc 100.000000 (96.291013)\n",
            "[5,   801]  loss 0.044505 (0.119888) train_acc 98.437500 (96.344413)\n",
            "[5,   901]  loss 0.130819 (0.119043) train_acc 93.750000 (96.359947)\n",
            "[6,     1]  loss 0.042558 (0.042558) train_acc 98.437500 (98.437500)\n",
            "[6,   101]  loss 0.117998 (0.095780) train_acc 96.875000 (97.199876)\n",
            "[6,   201]  loss 0.153724 (0.099767) train_acc 95.312500 (96.976057)\n",
            "[6,   301]  loss 0.102752 (0.100420) train_acc 96.875000 (96.947674)\n",
            "[6,   401]  loss 0.114067 (0.101486) train_acc 95.312500 (96.917862)\n",
            "[6,   501]  loss 0.076434 (0.100548) train_acc 95.312500 (96.903069)\n",
            "[6,   601]  loss 0.099132 (0.100521) train_acc 96.875000 (96.939996)\n",
            "[6,   701]  loss 0.124909 (0.099986) train_acc 95.312500 (96.966387)\n",
            "[6,   801]  loss 0.094857 (0.099538) train_acc 96.875000 (96.958880)\n",
            "[6,   901]  loss 0.063304 (0.099211) train_acc 96.875000 (96.965178)\n",
            "[7,     1]  loss 0.155789 (0.155789) train_acc 98.437500 (98.437500)\n",
            "[7,   101]  loss 0.121592 (0.084016) train_acc 96.875000 (97.246287)\n",
            "[7,   201]  loss 0.113657 (0.088692) train_acc 96.875000 (97.162624)\n",
            "[7,   301]  loss 0.080615 (0.089595) train_acc 98.437500 (97.207226)\n",
            "[7,   401]  loss 0.035767 (0.089689) train_acc 98.437500 (97.229582)\n",
            "[7,   501]  loss 0.085524 (0.088710) train_acc 96.875000 (97.249251)\n",
            "[7,   601]  loss 0.218870 (0.088937) train_acc 89.062500 (97.244176)\n",
            "[7,   701]  loss 0.104015 (0.088812) train_acc 93.750000 (97.242778)\n",
            "[7,   801]  loss 0.062049 (0.087247) train_acc 98.437500 (97.280743)\n",
            "[7,   901]  loss 0.137946 (0.087183) train_acc 95.312500 (97.273862)\n",
            "[8,     1]  loss 0.144765 (0.144765) train_acc 93.750000 (93.750000)\n",
            "[8,   101]  loss 0.035153 (0.078542) train_acc 100.000000 (97.617574)\n",
            "[8,   201]  loss 0.073580 (0.077333) train_acc 93.750000 (97.590174)\n",
            "[8,   301]  loss 0.037076 (0.076602) train_acc 98.437500 (97.689992)\n",
            "[8,   401]  loss 0.065163 (0.079205) train_acc 98.437500 (97.611440)\n",
            "[8,   501]  loss 0.124532 (0.077171) train_acc 93.750000 (97.664047)\n",
            "[8,   601]  loss 0.026846 (0.076975) train_acc 100.000000 (97.675749)\n",
            "[8,   701]  loss 0.108788 (0.077499) train_acc 96.875000 (97.643991)\n",
            "[8,   801]  loss 0.082355 (0.077784) train_acc 98.437500 (97.626014)\n",
            "[8,   901]  loss 0.110730 (0.077616) train_acc 95.312500 (97.615497)\n",
            "[9,     1]  loss 0.049956 (0.049956) train_acc 100.000000 (100.000000)\n",
            "[9,   101]  loss 0.016301 (0.067249) train_acc 100.000000 (98.035272)\n",
            "[9,   201]  loss 0.020118 (0.071308) train_acc 100.000000 (97.877799)\n",
            "[9,   301]  loss 0.109771 (0.074577) train_acc 96.875000 (97.783430)\n",
            "[9,   401]  loss 0.023761 (0.072803) train_acc 100.000000 (97.868610)\n",
            "[9,   501]  loss 0.032846 (0.072097) train_acc 98.437500 (97.866766)\n",
            "[9,   601]  loss 0.042937 (0.070304) train_acc 98.437500 (97.914933)\n",
            "[9,   701]  loss 0.062441 (0.071503) train_acc 96.875000 (97.869116)\n",
            "[9,   801]  loss 0.008451 (0.071378) train_acc 100.000000 (97.863998)\n",
            "[9,   901]  loss 0.079512 (0.070993) train_acc 98.437500 (97.866953)\n",
            "[10,     1]  loss 0.131926 (0.131926) train_acc 98.437500 (98.437500)\n",
            "[10,   101]  loss 0.035047 (0.062974) train_acc 98.437500 (97.880569)\n",
            "[10,   201]  loss 0.058336 (0.063175) train_acc 98.437500 (98.041045)\n",
            "[10,   301]  loss 0.033677 (0.064038) train_acc 98.437500 (98.063746)\n",
            "[10,   401]  loss 0.029126 (0.066189) train_acc 100.000000 (97.973815)\n",
            "[10,   501]  loss 0.082996 (0.064965) train_acc 96.875000 (98.000873)\n",
            "[10,   601]  loss 0.306042 (0.065791) train_acc 96.875000 (97.966930)\n",
            "[10,   701]  loss 0.051159 (0.064802) train_acc 96.875000 (97.967190)\n",
            "[10,   801]  loss 0.138415 (0.065150) train_acc 95.312500 (97.955680)\n",
            "[10,   901]  loss 0.062642 (0.065912) train_acc 96.875000 (97.946726)\n",
            "Finished Training\n",
            "Size of model after quantization\n",
            "Size (MB): 0.050084\n",
            "Accuracy of the fused and quantized network (trained quantized) on the test images: 97.74% - INT8\n"
          ]
        }
      ],
      "source": [
        "qnet = Net(q=True)\n",
        "fuse_modules(qnet)\n",
        "qnet.qconfig = torch.quantization.get_default_qat_qconfig('qnnpack')\n",
        "torch.quantization.prepare_qat(qnet, inplace=True)\n",
        "print('\\n Conv1: After fusion and quantization \\n\\n', qnet.conv1)\n",
        "qnet=qnet.cuda()\n",
        "train(qnet, trainloader, cuda=True)\n",
        "qnet = qnet.cpu()\n",
        "torch.quantization.convert(qnet, inplace=True)\n",
        "print(\"Size of model after quantization\")\n",
        "print_size_of_model(qnet)\n",
        "\n",
        "score = test(qnet, testloader, cuda=False)\n",
        "print('Accuracy of the fused and quantized network (trained quantized) on the test images: {}% - INT8'.format(score))"
      ]
    }
  ],
  "metadata": {
    "accelerator": "GPU",
    "colab": {
      "provenance": []
    },
    "kernelspec": {
      "display_name": "Python 3 (ipykernel)",
      "name": "python3",
      "language": "python"
    }
  },
  "nbformat": 4,
  "nbformat_minor": 0
}